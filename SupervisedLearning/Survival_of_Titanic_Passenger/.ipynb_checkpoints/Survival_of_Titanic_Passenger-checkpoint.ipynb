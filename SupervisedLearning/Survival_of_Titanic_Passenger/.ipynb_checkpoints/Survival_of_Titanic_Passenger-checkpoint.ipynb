{
 "cells": [
  {
   "cell_type": "code",
   "execution_count": 7,
   "metadata": {},
   "outputs": [],
   "source": [
    "import numpy as np\n",
    "import pandas as pd\n",
    "\n",
    "import matplotlib.pyplot as plt\n",
    "from pandas.plotting import scatter_matrix\n",
    "%matplotlib inline\n",
    "\n",
    "import seaborn as sns\n",
    "sns.set(style=\"white\",color_codes=True)\n",
    "sns.set(font_scale=1.5)\n",
    "\n",
    "from sklearn.linear_model import LogisticRegression\n",
    "from sklearn.model_selection import train_test_split\n",
    "\n",
    "from sklearn.metrics import confusion_matrix,classification_report,accuracy_score,precision_score,recall_score,f1_score\n",
    "from sklearn import metrics"
   ]
  },
  {
   "cell_type": "code",
   "execution_count": 8,
   "metadata": {},
   "outputs": [
    {
     "data": {
      "text/html": [
       "<div>\n",
       "<style scoped>\n",
       "    .dataframe tbody tr th:only-of-type {\n",
       "        vertical-align: middle;\n",
       "    }\n",
       "\n",
       "    .dataframe tbody tr th {\n",
       "        vertical-align: top;\n",
       "    }\n",
       "\n",
       "    .dataframe thead th {\n",
       "        text-align: right;\n",
       "    }\n",
       "</style>\n",
       "<table border=\"1\" class=\"dataframe\">\n",
       "  <thead>\n",
       "    <tr style=\"text-align: right;\">\n",
       "      <th></th>\n",
       "      <th>PassengerId</th>\n",
       "      <th>Survived</th>\n",
       "      <th>Pclass</th>\n",
       "      <th>Name</th>\n",
       "      <th>Sex</th>\n",
       "      <th>Age</th>\n",
       "      <th>SibSp</th>\n",
       "      <th>Parch</th>\n",
       "      <th>Ticket</th>\n",
       "      <th>Fare</th>\n",
       "      <th>Cabin</th>\n",
       "      <th>Embarked</th>\n",
       "    </tr>\n",
       "  </thead>\n",
       "  <tbody>\n",
       "    <tr>\n",
       "      <th>0</th>\n",
       "      <td>1</td>\n",
       "      <td>0</td>\n",
       "      <td>3</td>\n",
       "      <td>Braund, Mr. Owen Harris</td>\n",
       "      <td>male</td>\n",
       "      <td>22.0</td>\n",
       "      <td>1</td>\n",
       "      <td>0</td>\n",
       "      <td>A/5 21171</td>\n",
       "      <td>7.2500</td>\n",
       "      <td>NaN</td>\n",
       "      <td>S</td>\n",
       "    </tr>\n",
       "    <tr>\n",
       "      <th>1</th>\n",
       "      <td>2</td>\n",
       "      <td>1</td>\n",
       "      <td>1</td>\n",
       "      <td>Cumings, Mrs. John Bradley (Florence Briggs Th...</td>\n",
       "      <td>female</td>\n",
       "      <td>38.0</td>\n",
       "      <td>1</td>\n",
       "      <td>0</td>\n",
       "      <td>PC 17599</td>\n",
       "      <td>71.2833</td>\n",
       "      <td>C85</td>\n",
       "      <td>C</td>\n",
       "    </tr>\n",
       "    <tr>\n",
       "      <th>2</th>\n",
       "      <td>3</td>\n",
       "      <td>1</td>\n",
       "      <td>3</td>\n",
       "      <td>Heikkinen, Miss. Laina</td>\n",
       "      <td>female</td>\n",
       "      <td>26.0</td>\n",
       "      <td>0</td>\n",
       "      <td>0</td>\n",
       "      <td>STON/O2. 3101282</td>\n",
       "      <td>7.9250</td>\n",
       "      <td>NaN</td>\n",
       "      <td>S</td>\n",
       "    </tr>\n",
       "    <tr>\n",
       "      <th>3</th>\n",
       "      <td>4</td>\n",
       "      <td>1</td>\n",
       "      <td>1</td>\n",
       "      <td>Futrelle, Mrs. Jacques Heath (Lily May Peel)</td>\n",
       "      <td>female</td>\n",
       "      <td>35.0</td>\n",
       "      <td>1</td>\n",
       "      <td>0</td>\n",
       "      <td>113803</td>\n",
       "      <td>53.1000</td>\n",
       "      <td>C123</td>\n",
       "      <td>S</td>\n",
       "    </tr>\n",
       "    <tr>\n",
       "      <th>4</th>\n",
       "      <td>5</td>\n",
       "      <td>0</td>\n",
       "      <td>3</td>\n",
       "      <td>Allen, Mr. William Henry</td>\n",
       "      <td>male</td>\n",
       "      <td>35.0</td>\n",
       "      <td>0</td>\n",
       "      <td>0</td>\n",
       "      <td>373450</td>\n",
       "      <td>8.0500</td>\n",
       "      <td>NaN</td>\n",
       "      <td>S</td>\n",
       "    </tr>\n",
       "  </tbody>\n",
       "</table>\n",
       "</div>"
      ],
      "text/plain": [
       "   PassengerId  Survived  Pclass  \\\n",
       "0            1         0       3   \n",
       "1            2         1       1   \n",
       "2            3         1       3   \n",
       "3            4         1       1   \n",
       "4            5         0       3   \n",
       "\n",
       "                                                Name     Sex   Age  SibSp  \\\n",
       "0                            Braund, Mr. Owen Harris    male  22.0      1   \n",
       "1  Cumings, Mrs. John Bradley (Florence Briggs Th...  female  38.0      1   \n",
       "2                             Heikkinen, Miss. Laina  female  26.0      0   \n",
       "3       Futrelle, Mrs. Jacques Heath (Lily May Peel)  female  35.0      1   \n",
       "4                           Allen, Mr. William Henry    male  35.0      0   \n",
       "\n",
       "   Parch            Ticket     Fare Cabin Embarked  \n",
       "0      0         A/5 21171   7.2500   NaN        S  \n",
       "1      0          PC 17599  71.2833   C85        C  \n",
       "2      0  STON/O2. 3101282   7.9250   NaN        S  \n",
       "3      0            113803  53.1000  C123        S  \n",
       "4      0            373450   8.0500   NaN        S  "
      ]
     },
     "execution_count": 8,
     "metadata": {},
     "output_type": "execute_result"
    }
   ],
   "source": [
    "df_train=pd.read_csv(\"Dataset/train.csv\")\n",
    "df_train.head()"
   ]
  },
  {
   "cell_type": "code",
   "execution_count": 9,
   "metadata": {},
   "outputs": [
    {
     "data": {
      "text/plain": [
       "(891, 12)"
      ]
     },
     "execution_count": 9,
     "metadata": {},
     "output_type": "execute_result"
    }
   ],
   "source": [
    "df_train.shape"
   ]
  },
  {
   "cell_type": "code",
   "execution_count": 10,
   "metadata": {},
   "outputs": [
    {
     "data": {
      "text/plain": [
       "PassengerId      0\n",
       "Survived         0\n",
       "Pclass           0\n",
       "Name             0\n",
       "Sex              0\n",
       "Age            177\n",
       "SibSp            0\n",
       "Parch            0\n",
       "Ticket           0\n",
       "Fare             0\n",
       "Cabin          687\n",
       "Embarked         2\n",
       "dtype: int64"
      ]
     },
     "execution_count": 10,
     "metadata": {},
     "output_type": "execute_result"
    }
   ],
   "source": [
    "df_train.isnull().sum()"
   ]
  },
  {
   "cell_type": "code",
   "execution_count": 19,
   "metadata": {},
   "outputs": [
    {
     "data": {
      "text/plain": [
       "0    549\n",
       "1    342\n",
       "Name: Survived, dtype: int64"
      ]
     },
     "execution_count": 19,
     "metadata": {},
     "output_type": "execute_result"
    }
   ],
   "source": [
    "df_train.Survived.value_counts()"
   ]
  },
  {
   "cell_type": "code",
   "execution_count": 22,
   "metadata": {},
   "outputs": [
    {
     "data": {
      "text/plain": [
       "S    644\n",
       "C    168\n",
       "Q     77\n",
       "Name: Embarked, dtype: int64"
      ]
     },
     "execution_count": 22,
     "metadata": {},
     "output_type": "execute_result"
    }
   ],
   "source": [
    "df_train.Embarked.value_counts()"
   ]
  },
  {
   "cell_type": "code",
   "execution_count": null,
   "metadata": {},
   "outputs": [],
   "source": [
    "df_train.Sex.value_counts()"
   ]
  },
  {
   "cell_type": "code",
   "execution_count": 27,
   "metadata": {},
   "outputs": [
    {
     "data": {
      "text/html": [
       "<div>\n",
       "<style scoped>\n",
       "    .dataframe tbody tr th:only-of-type {\n",
       "        vertical-align: middle;\n",
       "    }\n",
       "\n",
       "    .dataframe tbody tr th {\n",
       "        vertical-align: top;\n",
       "    }\n",
       "\n",
       "    .dataframe thead th {\n",
       "        text-align: right;\n",
       "    }\n",
       "</style>\n",
       "<table border=\"1\" class=\"dataframe\">\n",
       "  <thead>\n",
       "    <tr style=\"text-align: right;\">\n",
       "      <th></th>\n",
       "      <th>Survived</th>\n",
       "      <th>Pclass</th>\n",
       "      <th>Sex</th>\n",
       "      <th>Age</th>\n",
       "      <th>SibSp</th>\n",
       "      <th>Parch</th>\n",
       "      <th>Fare</th>\n",
       "      <th>Embarked</th>\n",
       "    </tr>\n",
       "  </thead>\n",
       "  <tbody>\n",
       "    <tr>\n",
       "      <th>0</th>\n",
       "      <td>0</td>\n",
       "      <td>3</td>\n",
       "      <td>male</td>\n",
       "      <td>22.0</td>\n",
       "      <td>1</td>\n",
       "      <td>0</td>\n",
       "      <td>7.2500</td>\n",
       "      <td>S</td>\n",
       "    </tr>\n",
       "    <tr>\n",
       "      <th>1</th>\n",
       "      <td>1</td>\n",
       "      <td>1</td>\n",
       "      <td>female</td>\n",
       "      <td>38.0</td>\n",
       "      <td>1</td>\n",
       "      <td>0</td>\n",
       "      <td>71.2833</td>\n",
       "      <td>C</td>\n",
       "    </tr>\n",
       "    <tr>\n",
       "      <th>2</th>\n",
       "      <td>1</td>\n",
       "      <td>3</td>\n",
       "      <td>female</td>\n",
       "      <td>26.0</td>\n",
       "      <td>0</td>\n",
       "      <td>0</td>\n",
       "      <td>7.9250</td>\n",
       "      <td>S</td>\n",
       "    </tr>\n",
       "    <tr>\n",
       "      <th>3</th>\n",
       "      <td>1</td>\n",
       "      <td>1</td>\n",
       "      <td>female</td>\n",
       "      <td>35.0</td>\n",
       "      <td>1</td>\n",
       "      <td>0</td>\n",
       "      <td>53.1000</td>\n",
       "      <td>S</td>\n",
       "    </tr>\n",
       "    <tr>\n",
       "      <th>4</th>\n",
       "      <td>0</td>\n",
       "      <td>3</td>\n",
       "      <td>male</td>\n",
       "      <td>35.0</td>\n",
       "      <td>0</td>\n",
       "      <td>0</td>\n",
       "      <td>8.0500</td>\n",
       "      <td>S</td>\n",
       "    </tr>\n",
       "  </tbody>\n",
       "</table>\n",
       "</div>"
      ],
      "text/plain": [
       "   Survived  Pclass     Sex   Age  SibSp  Parch     Fare Embarked\n",
       "0         0       3    male  22.0      1      0   7.2500        S\n",
       "1         1       1  female  38.0      1      0  71.2833        C\n",
       "2         1       3  female  26.0      0      0   7.9250        S\n",
       "3         1       1  female  35.0      1      0  53.1000        S\n",
       "4         0       3    male  35.0      0      0   8.0500        S"
      ]
     },
     "execution_count": 27,
     "metadata": {},
     "output_type": "execute_result"
    }
   ],
   "source": [
    "df_train=df_train.drop(['PassengerId','Name','Ticket','Cabin'],axis=1)\n",
    "df_train.head()"
   ]
  },
  {
   "cell_type": "code",
   "execution_count": 42,
   "metadata": {},
   "outputs": [
    {
     "data": {
      "text/plain": [
       "<matplotlib.axes._subplots.AxesSubplot at 0x16746316da0>"
      ]
     },
     "execution_count": 42,
     "metadata": {},
     "output_type": "execute_result"
    },
    {
     "data": {
      "image/png": "[encoded data removed]",
      "text/plain": [
       "<Figure size 432x288 with 1 Axes>"
      ]
     },
     "metadata": {},
     "output_type": "display_data"
    }
   ],
   "source": [
    "sns.distplot(df_train['Age'].loc[df_train['Age'].notnull()])"
   ]
  },
  {
   "cell_type": "code",
   "execution_count": 44,
   "metadata": {},
   "outputs": [],
   "source": [
    "#as graph is left skewed, used median instead of mode to replace null values\n",
    "\n",
    "    "
   ]
  },
  {
   "cell_type": "code",
   "execution_count": 46,
   "metadata": {},
   "outputs": [
    {
     "data": {
      "text/html": [
       "<div>\n",
       "<style scoped>\n",
       "    .dataframe tbody tr th:only-of-type {\n",
       "        vertical-align: middle;\n",
       "    }\n",
       "\n",
       "    .dataframe tbody tr th {\n",
       "        vertical-align: top;\n",
       "    }\n",
       "\n",
       "    .dataframe thead th {\n",
       "        text-align: right;\n",
       "    }\n",
       "</style>\n",
       "<table border=\"1\" class=\"dataframe\">\n",
       "  <thead>\n",
       "    <tr style=\"text-align: right;\">\n",
       "      <th></th>\n",
       "      <th>Age</th>\n",
       "    </tr>\n",
       "    <tr>\n",
       "      <th>Pclass</th>\n",
       "      <th></th>\n",
       "    </tr>\n",
       "  </thead>\n",
       "  <tbody>\n",
       "    <tr>\n",
       "      <th>1</th>\n",
       "      <td>38.233441</td>\n",
       "    </tr>\n",
       "    <tr>\n",
       "      <th>2</th>\n",
       "      <td>29.877630</td>\n",
       "    </tr>\n",
       "    <tr>\n",
       "      <th>3</th>\n",
       "      <td>25.140620</td>\n",
       "    </tr>\n",
       "  </tbody>\n",
       "</table>\n",
       "</div>"
      ],
      "text/plain": [
       "              Age\n",
       "Pclass           \n",
       "1       38.233441\n",
       "2       29.877630\n",
       "3       25.140620"
      ]
     },
     "execution_count": 46,
     "metadata": {},
     "output_type": "execute_result"
    }
   ],
   "source": [
    "df_train.groupby(['Pclass']).agg({'Age':'mean'})"
   ]
  },
  {
   "cell_type": "code",
   "execution_count": 51,
   "metadata": {},
   "outputs": [],
   "source": [
    "def age_approx(cols):\n",
    "    Age=cols[0]\n",
    "    Pclass=cols[1]\n",
    "    \n",
    "    if pd.isnull(Age):\n",
    "        if Pclass==1:\n",
    "            return 37\n",
    "        elif Pclass==2:\n",
    "            return 29\n",
    "        else:\n",
    "            return 24\n",
    "    else:\n",
    "        return Age"
   ]
  },
  {
   "cell_type": "code",
   "execution_count": 52,
   "metadata": {},
   "outputs": [],
   "source": [
    "df_train['Age']=df_train[['Age','Pclass']].apply(age_approx,axis=1)"
   ]
  },
  {
   "cell_type": "code",
   "execution_count": 53,
   "metadata": {},
   "outputs": [
    {
     "data": {
      "text/plain": [
       "Survived    0\n",
       "Pclass      0\n",
       "Sex         0\n",
       "Age         0\n",
       "SibSp       0\n",
       "Parch       0\n",
       "Fare        0\n",
       "Embarked    2\n",
       "dtype: int64"
      ]
     },
     "execution_count": 53,
     "metadata": {},
     "output_type": "execute_result"
    }
   ],
   "source": [
    "df_train.isnull().sum()"
   ]
  },
  {
   "cell_type": "code",
   "execution_count": 54,
   "metadata": {},
   "outputs": [
    {
     "data": {
      "text/plain": [
       "Survived    0\n",
       "Pclass      0\n",
       "Sex         0\n",
       "Age         0\n",
       "SibSp       0\n",
       "Parch       0\n",
       "Fare        0\n",
       "Embarked    0\n",
       "dtype: int64"
      ]
     },
     "execution_count": 54,
     "metadata": {},
     "output_type": "execute_result"
    }
   ],
   "source": [
    "df_train.dropna(inplace=True)\n",
    "df_train.isnull().sum()"
   ]
  },
  {
   "cell_type": "code",
   "execution_count": 55,
   "metadata": {},
   "outputs": [
    {
     "data": {
      "text/plain": [
       "Survived      int64\n",
       "Pclass        int64\n",
       "Sex          object\n",
       "Age         float64\n",
       "SibSp         int64\n",
       "Parch         int64\n",
       "Fare        float64\n",
       "Embarked     object\n",
       "dtype: object"
      ]
     },
     "execution_count": 55,
     "metadata": {},
     "output_type": "execute_result"
    }
   ],
   "source": [
    "df_train.dtypes"
   ]
  },
  {
   "cell_type": "code",
   "execution_count": 56,
   "metadata": {},
   "outputs": [],
   "source": [
    "df_train_dummied=pd.get_dummies(df_train,columns=['Sex'])"
   ]
  },
  {
   "cell_type": "code",
   "execution_count": 57,
   "metadata": {},
   "outputs": [],
   "source": [
    "df_train_dummied=pd.get_dummies(df_train_dummied,columns=['Embarked'])"
   ]
  },
  {
   "cell_type": "code",
   "execution_count": 58,
   "metadata": {},
   "outputs": [
    {
     "data": {
      "text/html": [
       "<div>\n",
       "<style scoped>\n",
       "    .dataframe tbody tr th:only-of-type {\n",
       "        vertical-align: middle;\n",
       "    }\n",
       "\n",
       "    .dataframe tbody tr th {\n",
       "        vertical-align: top;\n",
       "    }\n",
       "\n",
       "    .dataframe thead th {\n",
       "        text-align: right;\n",
       "    }\n",
       "</style>\n",
       "<table border=\"1\" class=\"dataframe\">\n",
       "  <thead>\n",
       "    <tr style=\"text-align: right;\">\n",
       "      <th></th>\n",
       "      <th>Survived</th>\n",
       "      <th>Pclass</th>\n",
       "      <th>Age</th>\n",
       "      <th>SibSp</th>\n",
       "      <th>Parch</th>\n",
       "      <th>Fare</th>\n",
       "      <th>Sex_female</th>\n",
       "      <th>Sex_male</th>\n",
       "      <th>Embarked_C</th>\n",
       "      <th>Embarked_Q</th>\n",
       "      <th>Embarked_S</th>\n",
       "    </tr>\n",
       "  </thead>\n",
       "  <tbody>\n",
       "    <tr>\n",
       "      <th>0</th>\n",
       "      <td>0</td>\n",
       "      <td>3</td>\n",
       "      <td>22.0</td>\n",
       "      <td>1</td>\n",
       "      <td>0</td>\n",
       "      <td>7.2500</td>\n",
       "      <td>0</td>\n",
       "      <td>1</td>\n",
       "      <td>0</td>\n",
       "      <td>0</td>\n",
       "      <td>1</td>\n",
       "    </tr>\n",
       "    <tr>\n",
       "      <th>1</th>\n",
       "      <td>1</td>\n",
       "      <td>1</td>\n",
       "      <td>38.0</td>\n",
       "      <td>1</td>\n",
       "      <td>0</td>\n",
       "      <td>71.2833</td>\n",
       "      <td>1</td>\n",
       "      <td>0</td>\n",
       "      <td>1</td>\n",
       "      <td>0</td>\n",
       "      <td>0</td>\n",
       "    </tr>\n",
       "    <tr>\n",
       "      <th>2</th>\n",
       "      <td>1</td>\n",
       "      <td>3</td>\n",
       "      <td>26.0</td>\n",
       "      <td>0</td>\n",
       "      <td>0</td>\n",
       "      <td>7.9250</td>\n",
       "      <td>1</td>\n",
       "      <td>0</td>\n",
       "      <td>0</td>\n",
       "      <td>0</td>\n",
       "      <td>1</td>\n",
       "    </tr>\n",
       "    <tr>\n",
       "      <th>3</th>\n",
       "      <td>1</td>\n",
       "      <td>1</td>\n",
       "      <td>35.0</td>\n",
       "      <td>1</td>\n",
       "      <td>0</td>\n",
       "      <td>53.1000</td>\n",
       "      <td>1</td>\n",
       "      <td>0</td>\n",
       "      <td>0</td>\n",
       "      <td>0</td>\n",
       "      <td>1</td>\n",
       "    </tr>\n",
       "    <tr>\n",
       "      <th>4</th>\n",
       "      <td>0</td>\n",
       "      <td>3</td>\n",
       "      <td>35.0</td>\n",
       "      <td>0</td>\n",
       "      <td>0</td>\n",
       "      <td>8.0500</td>\n",
       "      <td>0</td>\n",
       "      <td>1</td>\n",
       "      <td>0</td>\n",
       "      <td>0</td>\n",
       "      <td>1</td>\n",
       "    </tr>\n",
       "  </tbody>\n",
       "</table>\n",
       "</div>"
      ],
      "text/plain": [
       "   Survived  Pclass   Age  SibSp  Parch     Fare  Sex_female  Sex_male  \\\n",
       "0         0       3  22.0      1      0   7.2500           0         1   \n",
       "1         1       1  38.0      1      0  71.2833           1         0   \n",
       "2         1       3  26.0      0      0   7.9250           1         0   \n",
       "3         1       1  35.0      1      0  53.1000           1         0   \n",
       "4         0       3  35.0      0      0   8.0500           0         1   \n",
       "\n",
       "   Embarked_C  Embarked_Q  Embarked_S  \n",
       "0           0           0           1  \n",
       "1           1           0           0  \n",
       "2           0           0           1  \n",
       "3           0           0           1  \n",
       "4           0           0           1  "
      ]
     },
     "execution_count": 58,
     "metadata": {},
     "output_type": "execute_result"
    }
   ],
   "source": [
    "df_train_dummied.head()"
   ]
  },
  {
   "cell_type": "code",
   "execution_count": 59,
   "metadata": {},
   "outputs": [
    {
     "data": {
      "text/plain": [
       "<matplotlib.axes._subplots.AxesSubplot at 0x16741562f60>"
      ]
     },
     "execution_count": 59,
     "metadata": {},
     "output_type": "execute_result"
    },
    {
     "data": {
      "image/png": "[encoded data removed]",
      "text/plain": [
       "<Figure size 432x288 with 2 Axes>"
      ]
     },
     "metadata": {},
     "output_type": "display_data"
    }
   ],
   "source": [
    "#Find if variables are coorealated\n",
    "plt.figure(figsize=(6,4))\n",
    "sns.heatmap(df_train_dummied.corr())"
   ]
  },
  {
   "cell_type": "code",
   "execution_count": 60,
   "metadata": {},
   "outputs": [
    {
     "data": {
      "text/plain": [
       "Index(['Survived', 'Pclass', 'Age', 'SibSp', 'Parch', 'Fare', 'Sex_female',\n",
       "       'Sex_male', 'Embarked_C', 'Embarked_Q', 'Embarked_S'],\n",
       "      dtype='object')"
      ]
     },
     "execution_count": 60,
     "metadata": {},
     "output_type": "execute_result"
    }
   ],
   "source": [
    "df_train_dummied.columns"
   ]
  },
  {
   "cell_type": "code",
   "execution_count": 63,
   "metadata": {},
   "outputs": [],
   "source": [
    "used_features=['Pclass', 'Age', 'SibSp', 'Parch', 'Fare', 'Sex_female',\n",
    "       'Sex_male', 'Embarked_C', 'Embarked_Q', 'Embarked_S']\n",
    "X=df_train_dummied[used_features].values\n",
    "Y=df_train_dummied['Survived']"
   ]
  },
  {
   "cell_type": "code",
   "execution_count": 65,
   "metadata": {},
   "outputs": [],
   "source": [
    "x_train,x_test,y_train,y_test=train_test_split(X,Y,test_size=0.3,random_state=1)"
   ]
  },
  {
   "cell_type": "code",
   "execution_count": 77,
   "metadata": {},
   "outputs": [
    {
     "data": {
      "text/plain": [
       "((622, 10), (267, 10), (622,), (267,))"
      ]
     },
     "execution_count": 77,
     "metadata": {},
     "output_type": "execute_result"
    }
   ],
   "source": [
    "x_train.shape,x_test.shape,y_train.shape,y_test.shape"
   ]
  },
  {
   "cell_type": "code",
   "execution_count": 67,
   "metadata": {},
   "outputs": [
    {
     "name": "stderr",
     "output_type": "stream",
     "text": [
      "C:\\Users\\18329\\AppData\\Local\\Continuum\\anaconda3\\lib\\site-packages\\sklearn\\linear_model\\logistic.py:432: FutureWarning: Default solver will be changed to 'lbfgs' in 0.22. Specify a solver to silence this warning.\n",
      "  FutureWarning)\n"
     ]
    },
    {
     "data": {
      "text/plain": [
       "LogisticRegression(C=1.0, class_weight=None, dual=False, fit_intercept=True,\n",
       "                   intercept_scaling=1, l1_ratio=None, max_iter=100,\n",
       "                   multi_class='warn', n_jobs=None, penalty='l2',\n",
       "                   random_state=None, solver='warn', tol=0.0001, verbose=0,\n",
       "                   warm_start=False)"
      ]
     },
     "execution_count": 67,
     "metadata": {},
     "output_type": "execute_result"
    }
   ],
   "source": [
    "LogReg=LogisticRegression()\n",
    "LogReg.fit(x_train,y_train)"
   ]
  },
  {
   "cell_type": "code",
   "execution_count": 68,
   "metadata": {},
   "outputs": [],
   "source": [
    "y_pred=LogReg.predict(x_test)"
   ]
  },
  {
   "cell_type": "code",
   "execution_count": 83,
   "metadata": {},
   "outputs": [
    {
     "data": {
      "text/plain": [
       "0    166\n",
       "1    101\n",
       "Name: Survived, dtype: int64"
      ]
     },
     "execution_count": 83,
     "metadata": {},
     "output_type": "execute_result"
    }
   ],
   "source": [
    "y_test.value_counts()"
   ]
  },
  {
   "cell_type": "code",
   "execution_count": 87,
   "metadata": {},
   "outputs": [
    {
     "data": {
      "text/plain": [
       "array([[141,  25],\n",
       "       [ 22,  79]], dtype=int64)"
      ]
     },
     "execution_count": 87,
     "metadata": {},
     "output_type": "execute_result"
    }
   ],
   "source": [
    "# not survived: 166-25: 141 (out of the total 166 non survived , the alg correctly predicted 141)\n",
    "#survived: 101-22: 79(out of the total 101 non survived , the alg correctly predicted 79)\n",
    "metrics.confusion_matrix(y_test,y_pred)"
   ]
  },
  {
   "cell_type": "code",
   "execution_count": 82,
   "metadata": {},
   "outputs": [
    {
     "name": "stdout",
     "output_type": "stream",
     "text": [
      "0.8239700374531835\n",
      "0.7596153846153846\n",
      "0.7707317073170732\n",
      "0.7821782178217822\n"
     ]
    }
   ],
   "source": [
    "#algorithm has an accuracy of 85%: out of 100 passangers , the algo predicts 85 correctly\n",
    "print(metrics.accuracy_score(y_test,y_pred))\n",
    "print(metrics.precision_score(y_test,y_pred))\n",
    "print(metrics.f1_score(y_test,y_pred))\n",
    "print(metrics.recall_score(y_test,y_pred))"
   ]
  },
  {
   "cell_type": "code",
   "execution_count": 81,
   "metadata": {},
   "outputs": [
    {
     "name": "stdout",
     "output_type": "stream",
     "text": [
      "              precision    recall  f1-score   support\n",
      "\n",
      "           0       0.87      0.85      0.86       166\n",
      "           1       0.76      0.78      0.77       101\n",
      "\n",
      "    accuracy                           0.82       267\n",
      "   macro avg       0.81      0.82      0.81       267\n",
      "weighted avg       0.83      0.82      0.82       267\n",
      "\n"
     ]
    }
   ],
   "source": [
    "print(metrics.classification_report(y_test,y_pred))"
   ]
  },
  {
   "cell_type": "code",
   "execution_count": 85,
   "metadata": {},
   "outputs": [
    {
     "name": "stdout",
     "output_type": "stream",
     "text": [
      "[1.63848304]\n",
      "['Pclass', 'Age', 'SibSp', 'Parch', 'Fare', 'Sex_female', 'Sex_male', 'Embarked_C', 'Embarked_Q', 'Embarked_S'] [[-0.88098398 -0.03355661 -0.23738336 -0.04886841  0.00204378  1.99377503\n",
      "  -0.35529199  0.90883588  0.45746809  0.27217908]]\n"
     ]
    }
   ],
   "source": [
    "print(LogReg.intercept_)\n",
    "print(used_features,LogReg.coef_)"
   ]
  },
  {
   "cell_type": "code",
   "execution_count": 86,
   "metadata": {},
   "outputs": [
    {
     "data": {
      "text/plain": [
       "array([[0.27667794, 0.72332206],\n",
       "       [0.38487458, 0.61512542],\n",
       "       [0.93597091, 0.06402909],\n",
       "       [0.28379632, 0.71620368],\n",
       "       [0.93969693, 0.06030307],\n",
       "       [0.15185655, 0.84814345],\n",
       "       [0.33680151, 0.66319849],\n",
       "       [0.52273141, 0.47726859],\n",
       "       [0.78463159, 0.21536841],\n",
       "       [0.40006114, 0.59993886],\n",
       "       [0.7372405 , 0.2627595 ],\n",
       "       [0.21843738, 0.78156262],\n",
       "       [0.76008951, 0.23991049],\n",
       "       [0.17302831, 0.82697169],\n",
       "       [0.85932439, 0.14067561],\n",
       "       [0.36740967, 0.63259033],\n",
       "       [0.87685557, 0.12314443],\n",
       "       [0.30432763, 0.69567237],\n",
       "       [0.19276034, 0.80723966],\n",
       "       [0.42506523, 0.57493477],\n",
       "       [0.88553553, 0.11446447],\n",
       "       [0.58916164, 0.41083836],\n",
       "       [0.85792683, 0.14207317],\n",
       "       [0.93373338, 0.06626662],\n",
       "       [0.51766599, 0.48233401],\n",
       "       [0.49012993, 0.50987007],\n",
       "       [0.046322  , 0.953678  ],\n",
       "       [0.86301137, 0.13698863],\n",
       "       [0.89065205, 0.10934795],\n",
       "       [0.34133929, 0.65866071],\n",
       "       [0.384006  , 0.615994  ],\n",
       "       [0.23439615, 0.76560385],\n",
       "       [0.17392922, 0.82607078],\n",
       "       [0.44635788, 0.55364212],\n",
       "       [0.62384365, 0.37615635],\n",
       "       [0.18858357, 0.81141643],\n",
       "       [0.65795805, 0.34204195],\n",
       "       [0.8671925 , 0.1328075 ],\n",
       "       [0.26175168, 0.73824832],\n",
       "       [0.58024195, 0.41975805],\n",
       "       [0.43033757, 0.56966243],\n",
       "       [0.90050961, 0.09949039],\n",
       "       [0.2763389 , 0.7236611 ],\n",
       "       [0.86720721, 0.13279279],\n",
       "       [0.79443375, 0.20556625],\n",
       "       [0.2506353 , 0.7493647 ],\n",
       "       [0.18759256, 0.81240744],\n",
       "       [0.81186392, 0.18813608],\n",
       "       [0.0796442 , 0.9203558 ],\n",
       "       [0.91280094, 0.08719906],\n",
       "       [0.86732484, 0.13267516],\n",
       "       [0.46247513, 0.53752487],\n",
       "       [0.8918349 , 0.1081651 ],\n",
       "       [0.09904788, 0.90095212],\n",
       "       [0.76102   , 0.23898   ],\n",
       "       [0.08716538, 0.91283462],\n",
       "       [0.7839573 , 0.2160427 ],\n",
       "       [0.94343279, 0.05656721],\n",
       "       [0.72148319, 0.27851681],\n",
       "       [0.93098443, 0.06901557],\n",
       "       [0.81038766, 0.18961234],\n",
       "       [0.85508268, 0.14491732],\n",
       "       [0.62144263, 0.37855737],\n",
       "       [0.86720721, 0.13279279],\n",
       "       [0.46851578, 0.53148422],\n",
       "       [0.25376807, 0.74623193],\n",
       "       [0.86568177, 0.13431823],\n",
       "       [0.9016089 , 0.0983911 ],\n",
       "       [0.84462366, 0.15537634],\n",
       "       [0.05199738, 0.94800262],\n",
       "       [0.79715039, 0.20284961],\n",
       "       [0.07459182, 0.92540818],\n",
       "       [0.6284654 , 0.3715346 ],\n",
       "       [0.85522928, 0.14477072],\n",
       "       [0.31871992, 0.68128008],\n",
       "       [0.15214634, 0.84785366],\n",
       "       [0.84446232, 0.15553768],\n",
       "       [0.91422763, 0.08577237],\n",
       "       [0.81926508, 0.18073492],\n",
       "       [0.83053255, 0.16946745],\n",
       "       [0.84446232, 0.15553768],\n",
       "       [0.85928629, 0.14071371],\n",
       "       [0.04758943, 0.95241057],\n",
       "       [0.05121471, 0.94878529],\n",
       "       [0.77211344, 0.22788656],\n",
       "       [0.66102791, 0.33897209],\n",
       "       [0.446662  , 0.553338  ],\n",
       "       [0.24951002, 0.75048998],\n",
       "       [0.86720721, 0.13279279],\n",
       "       [0.3670871 , 0.6329129 ],\n",
       "       [0.88872939, 0.11127061],\n",
       "       [0.34135653, 0.65864347],\n",
       "       [0.92422746, 0.07577254],\n",
       "       [0.77582652, 0.22417348],\n",
       "       [0.24832798, 0.75167202],\n",
       "       [0.83650326, 0.16349674],\n",
       "       [0.24616   , 0.75384   ],\n",
       "       [0.2955337 , 0.7044663 ],\n",
       "       [0.24832638, 0.75167362],\n",
       "       [0.23311817, 0.76688183],\n",
       "       [0.84666823, 0.15333177],\n",
       "       [0.3480306 , 0.6519694 ],\n",
       "       [0.62535106, 0.37464894],\n",
       "       [0.85102484, 0.14897516],\n",
       "       [0.85081527, 0.14918473],\n",
       "       [0.90376421, 0.09623579],\n",
       "       [0.11781527, 0.88218473],\n",
       "       [0.84670914, 0.15329086],\n",
       "       [0.7639386 , 0.2360614 ],\n",
       "       [0.81588854, 0.18411146],\n",
       "       [0.64791405, 0.35208595],\n",
       "       [0.76490097, 0.23509903],\n",
       "       [0.77582652, 0.22417348],\n",
       "       [0.19630359, 0.80369641],\n",
       "       [0.35579538, 0.64420462],\n",
       "       [0.09506969, 0.90493031],\n",
       "       [0.91472267, 0.08527733],\n",
       "       [0.40009587, 0.59990413],\n",
       "       [0.07041165, 0.92958835],\n",
       "       [0.79569784, 0.20430216],\n",
       "       [0.87120773, 0.12879227],\n",
       "       [0.22337881, 0.77662119],\n",
       "       [0.34117849, 0.65882151],\n",
       "       [0.55253945, 0.44746055],\n",
       "       [0.21969405, 0.78030595],\n",
       "       [0.88195137, 0.11804863],\n",
       "       [0.4803132 , 0.5196868 ],\n",
       "       [0.9096968 , 0.0903032 ],\n",
       "       [0.87478362, 0.12521638],\n",
       "       [0.56287625, 0.43712375],\n",
       "       [0.43741787, 0.56258213],\n",
       "       [0.6259195 , 0.3740805 ],\n",
       "       [0.87415658, 0.12584342],\n",
       "       [0.62549682, 0.37450318],\n",
       "       [0.36863963, 0.63136037],\n",
       "       [0.08849886, 0.91150114],\n",
       "       [0.8531302 , 0.1468698 ],\n",
       "       [0.91529661, 0.08470339],\n",
       "       [0.86553912, 0.13446088],\n",
       "       [0.87880164, 0.12119836],\n",
       "       [0.8523436 , 0.1476564 ],\n",
       "       [0.32078071, 0.67921929],\n",
       "       [0.91266325, 0.08733675],\n",
       "       [0.38782541, 0.61217459],\n",
       "       [0.63811879, 0.36188121],\n",
       "       [0.69771828, 0.30228172],\n",
       "       [0.19961549, 0.80038451],\n",
       "       [0.08022526, 0.91977474],\n",
       "       [0.09012302, 0.90987698],\n",
       "       [0.92408083, 0.07591917],\n",
       "       [0.87082608, 0.12917392],\n",
       "       [0.92534807, 0.07465193],\n",
       "       [0.15922075, 0.84077925],\n",
       "       [0.84670914, 0.15329086],\n",
       "       [0.42566337, 0.57433663],\n",
       "       [0.36838994, 0.63161006],\n",
       "       [0.78692862, 0.21307138],\n",
       "       [0.39138201, 0.60861799],\n",
       "       [0.88160848, 0.11839152],\n",
       "       [0.86727192, 0.13272808],\n",
       "       [0.54801275, 0.45198725],\n",
       "       [0.77884524, 0.22115476],\n",
       "       [0.56287625, 0.43712375],\n",
       "       [0.87139572, 0.12860428],\n",
       "       [0.86504722, 0.13495278],\n",
       "       [0.83313841, 0.16686159],\n",
       "       [0.13731842, 0.86268158],\n",
       "       [0.02839547, 0.97160453],\n",
       "       [0.77483823, 0.22516177],\n",
       "       [0.24326967, 0.75673033],\n",
       "       [0.84879195, 0.15120805],\n",
       "       [0.90071184, 0.09928816],\n",
       "       [0.84446232, 0.15553768],\n",
       "       [0.86726702, 0.13273298],\n",
       "       [0.68603564, 0.31396436],\n",
       "       [0.29943227, 0.70056773],\n",
       "       [0.85928629, 0.14071371],\n",
       "       [0.72918603, 0.27081397],\n",
       "       [0.86720721, 0.13279279],\n",
       "       [0.84610468, 0.15389532],\n",
       "       [0.84446232, 0.15553768],\n",
       "       [0.86720721, 0.13279279],\n",
       "       [0.62280415, 0.37719585],\n",
       "       [0.92701912, 0.07298088],\n",
       "       [0.34141204, 0.65858796],\n",
       "       [0.80195081, 0.19804919],\n",
       "       [0.39276345, 0.60723655],\n",
       "       [0.6176821 , 0.3823179 ],\n",
       "       [0.22547988, 0.77452012],\n",
       "       [0.89522464, 0.10477536],\n",
       "       [0.75520723, 0.24479277],\n",
       "       [0.71145061, 0.28854939],\n",
       "       [0.85951472, 0.14048528],\n",
       "       [0.77377622, 0.22622378],\n",
       "       [0.92638998, 0.07361002],\n",
       "       [0.75192249, 0.24807751],\n",
       "       [0.89807471, 0.10192529],\n",
       "       [0.29413223, 0.70586777],\n",
       "       [0.62549682, 0.37450318],\n",
       "       [0.08771511, 0.91228489],\n",
       "       [0.71251735, 0.28748265],\n",
       "       [0.2036429 , 0.7963571 ],\n",
       "       [0.78789671, 0.21210329],\n",
       "       [0.57712755, 0.42287245],\n",
       "       [0.05302876, 0.94697124],\n",
       "       [0.88195026, 0.11804974],\n",
       "       [0.8691275 , 0.1308725 ],\n",
       "       [0.30336321, 0.69663679],\n",
       "       [0.8009932 , 0.1990068 ],\n",
       "       [0.07711265, 0.92288735],\n",
       "       [0.84237052, 0.15762948],\n",
       "       [0.75391706, 0.24608294],\n",
       "       [0.77582801, 0.22417199],\n",
       "       [0.76394015, 0.23605985],\n",
       "       [0.3335419 , 0.6664581 ],\n",
       "       [0.17305825, 0.82694175],\n",
       "       [0.76706934, 0.23293066],\n",
       "       [0.2073391 , 0.7926609 ],\n",
       "       [0.90427125, 0.09572875],\n",
       "       [0.70393313, 0.29606687],\n",
       "       [0.87139572, 0.12860428],\n",
       "       [0.48636639, 0.51363361],\n",
       "       [0.67954144, 0.32045856],\n",
       "       [0.23824234, 0.76175766],\n",
       "       [0.26076874, 0.73923126],\n",
       "       [0.85896473, 0.14103527],\n",
       "       [0.62406175, 0.37593825],\n",
       "       [0.84446232, 0.15553768],\n",
       "       [0.78161008, 0.21838992],\n",
       "       [0.7553969 , 0.2446031 ],\n",
       "       [0.38855515, 0.61144485],\n",
       "       [0.29215314, 0.70784686],\n",
       "       [0.45786686, 0.54213314],\n",
       "       [0.84446232, 0.15553768],\n",
       "       [0.88889098, 0.11110902],\n",
       "       [0.88578515, 0.11421485],\n",
       "       [0.8672435 , 0.1327565 ],\n",
       "       [0.81435066, 0.18564934],\n",
       "       [0.40747966, 0.59252034],\n",
       "       [0.87111597, 0.12888403],\n",
       "       [0.30313903, 0.69686097],\n",
       "       [0.84000886, 0.15999114],\n",
       "       [0.84663949, 0.15336051],\n",
       "       [0.6824322 , 0.3175678 ],\n",
       "       [0.49552698, 0.50447302],\n",
       "       [0.11426158, 0.88573842],\n",
       "       [0.14899972, 0.85100028],\n",
       "       [0.76942357, 0.23057643],\n",
       "       [0.70725072, 0.29274928],\n",
       "       [0.87165907, 0.12834093],\n",
       "       [0.20719027, 0.79280973],\n",
       "       [0.34132013, 0.65867987],\n",
       "       [0.39210789, 0.60789211],\n",
       "       [0.92956563, 0.07043437],\n",
       "       [0.10657846, 0.89342154],\n",
       "       [0.23380473, 0.76619527],\n",
       "       [0.87480881, 0.12519119],\n",
       "       [0.89521904, 0.10478096],\n",
       "       [0.05091721, 0.94908279],\n",
       "       [0.77582652, 0.22417348],\n",
       "       [0.22133553, 0.77866447],\n",
       "       [0.87288464, 0.12711536],\n",
       "       [0.67831756, 0.32168244],\n",
       "       [0.8672435 , 0.1327565 ],\n",
       "       [0.29215487, 0.70784513],\n",
       "       [0.84446903, 0.15553097],\n",
       "       [0.90491958, 0.09508042]])"
      ]
     },
     "execution_count": 86,
     "metadata": {},
     "output_type": "execute_result"
    }
   ],
   "source": [
    "#further check algorithms predicted  probability : col1: not Survived, col2: Survived \n",
    "LogReg.predict_proba(x_test)"
   ]
  },
  {
   "cell_type": "code",
   "execution_count": null,
   "metadata": {},
   "outputs": [],
   "source": []
  }
 ],
 "metadata": {
  "kernelspec": {
   "display_name": "Python 3",
   "language": "python",
   "name": "python3"
  },
  "language_info": {
   "codemirror_mode": {
    "name": "ipython",
    "version": 3
   },
   "file_extension": ".py",
   "mimetype": "text/x-python",
   "name": "python",
   "nbconvert_exporter": "python",
   "pygments_lexer": "ipython3",
   "version": "3.7.3"
  }
 },
 "nbformat": 4,
 "nbformat_minor": 2
}
