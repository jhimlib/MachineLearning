{
 "cells": [
  {
   "cell_type": "code",
   "execution_count": 23,
   "metadata": {},
   "outputs": [],
   "source": [
    "#import necessary Libraries\n",
    "import pandas as pd\n",
    "from sklearn.datasets import load_iris\n",
    "from sklearn.ensemble import AdaBoostClassifier\n",
    "from sklearn.ensemble import RandomForestClassifier\n",
    "from xgboost import XGBClassifier\n",
    "from sklearn.model_selection import KFold,cross_val_score"
   ]
  },
  {
   "cell_type": "code",
   "execution_count": 3,
   "metadata": {},
   "outputs": [
    {
     "name": "stdout",
     "output_type": "stream",
     "text": [
      ".. _iris_dataset:\n",
      "\n",
      "Iris plants dataset\n",
      "--------------------\n",
      "\n",
      "**Data Set Characteristics:**\n",
      "\n",
      "    :Number of Instances: 150 (50 in each of three classes)\n",
      "    :Number of Attributes: 4 numeric, predictive attributes and the class\n",
      "    :Attribute Information:\n",
      "        - sepal length in cm\n",
      "        - sepal width in cm\n",
      "        - petal length in cm\n",
      "        - petal width in cm\n",
      "        - class:\n",
      "                - Iris-Setosa\n",
      "                - Iris-Versicolour\n",
      "                - Iris-Virginica\n",
      "                \n",
      "    :Summary Statistics:\n",
      "\n",
      "    ============== ==== ==== ======= ===== ====================\n",
      "                    Min  Max   Mean    SD   Class Correlation\n",
      "    ============== ==== ==== ======= ===== ====================\n",
      "    sepal length:   4.3  7.9   5.84   0.83    0.7826\n",
      "    sepal width:    2.0  4.4   3.05   0.43   -0.4194\n",
      "    petal length:   1.0  6.9   3.76   1.76    0.9490  (high!)\n",
      "    petal width:    0.1  2.5   1.20   0.76    0.9565  (high!)\n",
      "    ============== ==== ==== ======= ===== ====================\n",
      "\n",
      "    :Missing Attribute Values: None\n",
      "    :Class Distribution: 33.3% for each of 3 classes.\n",
      "    :Creator: R.A. Fisher\n",
      "    :Donor: Michael Marshall (MARSHALL%PLU@io.arc.nasa.gov)\n",
      "    :Date: July, 1988\n",
      "\n",
      "The famous Iris database, first used by Sir R.A. Fisher. The dataset is taken\n",
      "from Fisher's paper. Note that it's the same as in R, but not as in the UCI\n",
      "Machine Learning Repository, which has two wrong data points.\n",
      "\n",
      "This is perhaps the best known database to be found in the\n",
      "pattern recognition literature.  Fisher's paper is a classic in the field and\n",
      "is referenced frequently to this day.  (See Duda & Hart, for example.)  The\n",
      "data set contains 3 classes of 50 instances each, where each class refers to a\n",
      "type of iris plant.  One class is linearly separable from the other 2; the\n",
      "latter are NOT linearly separable from each other.\n",
      "\n",
      ".. topic:: References\n",
      "\n",
      "   - Fisher, R.A. \"The use of multiple measurements in taxonomic problems\"\n",
      "     Annual Eugenics, 7, Part II, 179-188 (1936); also in \"Contributions to\n",
      "     Mathematical Statistics\" (John Wiley, NY, 1950).\n",
      "   - Duda, R.O., & Hart, P.E. (1973) Pattern Classification and Scene Analysis.\n",
      "     (Q327.D83) John Wiley & Sons.  ISBN 0-471-22361-1.  See page 218.\n",
      "   - Dasarathy, B.V. (1980) \"Nosing Around the Neighborhood: A New System\n",
      "     Structure and Classification Rule for Recognition in Partially Exposed\n",
      "     Environments\".  IEEE Transactions on Pattern Analysis and Machine\n",
      "     Intelligence, Vol. PAMI-2, No. 1, 67-71.\n",
      "   - Gates, G.W. (1972) \"The Reduced Nearest Neighbor Rule\".  IEEE Transactions\n",
      "     on Information Theory, May 1972, 431-433.\n",
      "   - See also: 1988 MLC Proceedings, 54-64.  Cheeseman et al\"s AUTOCLASS II\n",
      "     conceptual clustering system finds 3 classes in the data.\n",
      "   - Many, many more ...\n"
     ]
    }
   ],
   "source": [
    "#Load Data\n",
    "iris_data=load_iris()\n",
    "print(iris_data.DESCR)"
   ]
  },
  {
   "cell_type": "code",
   "execution_count": 5,
   "metadata": {},
   "outputs": [
    {
     "data": {
      "text/plain": [
       "['sepal length (cm)',\n",
       " 'sepal width (cm)',\n",
       " 'petal length (cm)',\n",
       " 'petal width (cm)']"
      ]
     },
     "execution_count": 5,
     "metadata": {},
     "output_type": "execute_result"
    }
   ],
   "source": [
    "iris_data.feature_names"
   ]
  },
  {
   "cell_type": "code",
   "execution_count": 14,
   "metadata": {},
   "outputs": [
    {
     "data": {
      "text/html": [
       "<div>\n",
       "<style scoped>\n",
       "    .dataframe tbody tr th:only-of-type {\n",
       "        vertical-align: middle;\n",
       "    }\n",
       "\n",
       "    .dataframe tbody tr th {\n",
       "        vertical-align: top;\n",
       "    }\n",
       "\n",
       "    .dataframe thead th {\n",
       "        text-align: right;\n",
       "    }\n",
       "</style>\n",
       "<table border=\"1\" class=\"dataframe\">\n",
       "  <thead>\n",
       "    <tr style=\"text-align: right;\">\n",
       "      <th></th>\n",
       "      <th>sepal length (cm)</th>\n",
       "      <th>sepal width (cm)</th>\n",
       "      <th>petal length (cm)</th>\n",
       "      <th>petal width (cm)</th>\n",
       "      <th>class</th>\n",
       "    </tr>\n",
       "  </thead>\n",
       "  <tbody>\n",
       "    <tr>\n",
       "      <th>0</th>\n",
       "      <td>5.1</td>\n",
       "      <td>3.5</td>\n",
       "      <td>1.4</td>\n",
       "      <td>0.2</td>\n",
       "      <td>0</td>\n",
       "    </tr>\n",
       "    <tr>\n",
       "      <th>1</th>\n",
       "      <td>4.9</td>\n",
       "      <td>3.0</td>\n",
       "      <td>1.4</td>\n",
       "      <td>0.2</td>\n",
       "      <td>0</td>\n",
       "    </tr>\n",
       "    <tr>\n",
       "      <th>2</th>\n",
       "      <td>4.7</td>\n",
       "      <td>3.2</td>\n",
       "      <td>1.3</td>\n",
       "      <td>0.2</td>\n",
       "      <td>0</td>\n",
       "    </tr>\n",
       "    <tr>\n",
       "      <th>3</th>\n",
       "      <td>4.6</td>\n",
       "      <td>3.1</td>\n",
       "      <td>1.5</td>\n",
       "      <td>0.2</td>\n",
       "      <td>0</td>\n",
       "    </tr>\n",
       "    <tr>\n",
       "      <th>4</th>\n",
       "      <td>5.0</td>\n",
       "      <td>3.6</td>\n",
       "      <td>1.4</td>\n",
       "      <td>0.2</td>\n",
       "      <td>0</td>\n",
       "    </tr>\n",
       "  </tbody>\n",
       "</table>\n",
       "</div>"
      ],
      "text/plain": [
       "   sepal length (cm)  sepal width (cm)  petal length (cm)  petal width (cm)  class\n",
       "0                5.1               3.5                1.4               0.2      0\n",
       "1                4.9               3.0                1.4               0.2      0\n",
       "2                4.7               3.2                1.3               0.2      0\n",
       "3                4.6               3.1                1.5               0.2      0\n",
       "4                5.0               3.6                1.4               0.2      0"
      ]
     },
     "execution_count": 14,
     "metadata": {},
     "output_type": "execute_result"
    }
   ],
   "source": [
    "df_iris=pd.DataFrame(iris_data.data,columns=iris_data.feature_names)\n",
    "#convert class 2 to 1\n",
    "df_iris['class']=pd.Series((iris_data.target != 0) * 1)\n",
    "df_iris.head()"
   ]
  },
  {
   "cell_type": "code",
   "execution_count": 17,
   "metadata": {},
   "outputs": [
    {
     "data": {
      "text/plain": [
       "1    100\n",
       "0     50\n",
       "Name: class, dtype: int64"
      ]
     },
     "execution_count": 17,
     "metadata": {},
     "output_type": "execute_result"
    }
   ],
   "source": [
    "df_iris['class'].value_counts()"
   ]
  },
  {
   "cell_type": "code",
   "execution_count": 18,
   "metadata": {},
   "outputs": [],
   "source": [
    "use_features=['sepal length (cm)',\n",
    " 'sepal width (cm)',\n",
    " 'petal length (cm)',\n",
    " 'petal width (cm)']\n",
    "\n",
    "x = df_iris[use_features].values\n",
    "y=df_iris['class']"
   ]
  },
  {
   "cell_type": "markdown",
   "metadata": {},
   "source": [
    "<h2>AdaBoostClassifier</h2>"
   ]
  },
  {
   "cell_type": "code",
   "execution_count": 29,
   "metadata": {},
   "outputs": [
    {
     "name": "stdout",
     "output_type": "stream",
     "text": [
      "1.0\n"
     ]
    }
   ],
   "source": [
    "seed=7\n",
    "num_trees= 10\n",
    "kfold=KFold(n_splits=5,random_state=seed)\n",
    "\n",
    "model=AdaBoostClassifier(n_estimators=num_trees,random_state=seed)\n",
    "results=cross_val_score(model,x,y,cv=kfold,scoring='accuracy')\n",
    "print(results.mean())"
   ]
  },
  {
   "cell_type": "markdown",
   "metadata": {},
   "source": [
    "<h2>RandomForestClassifier<h2>"
   ]
  },
  {
   "cell_type": "code",
   "execution_count": 25,
   "metadata": {},
   "outputs": [],
   "source": [
    "kfold=KFold(n_splits=5,random_state=seed,shuffle=True)"
   ]
  },
  {
   "cell_type": "code",
   "execution_count": 26,
   "metadata": {},
   "outputs": [
    {
     "name": "stdout",
     "output_type": "stream",
     "text": [
      "Train set                    Test set\n",
      "[  0   1   2   3   4   5   6   7   8   9  10  12  13  14  15  16  17  18\n",
      "  19  20  21  22  23  24  25  26  27  29  30  31  33  34  35  36  38  39\n",
      "  42  43  44  45  47  48  49  50  53  54  55  56  57  58  59  60  61  62\n",
      "  64  65  67  68  69  71  72  73  74  75  76  78  79  81  83  86  87  88\n",
      "  89  90  91  92  93  95  96  98  99 100 102 103 104 105 107 110 111 112\n",
      " 113 114 115 116 117 118 121 122 123 124 125 126 127 128 130 131 132 133\n",
      " 134 135 136 139 141 142 143 144 145 146 147 148] [ 11  28  32  37  40  41  46  51  52  63  66  70  77  80  82  84  85  94\n",
      "  97 101 106 108 109 119 120 129 137 138 140 149]\n",
      "[  0   1   2   4   6   7   9  10  11  12  14  15  16  18  19  20  21  23\n",
      "  24  25  27  28  30  31  32  33  34  35  37  38  40  41  42  43  44  46\n",
      "  47  48  50  51  52  53  55  56  57  58  59  61  63  64  66  67  68  69\n",
      "  70  71  72  73  75  77  78  80  82  83  84  85  86  87  88  89  90  91\n",
      "  92  93  94  96  97  98  99 101 103 104 105 106 107 108 109 110 112 113\n",
      " 114 115 118 119 120 121 122 123 125 127 128 129 130 131 133 134 135 136\n",
      " 137 138 140 141 142 143 144 145 146 147 148 149] [  3   5   8  13  17  22  26  29  36  39  45  49  54  60  62  65  74  76\n",
      "  79  81  95 100 102 111 116 117 124 126 132 139]\n",
      "[  0   1   3   4   5   6   7   8   9  10  11  13  16  17  19  21  22  23\n",
      "  24  25  26  28  29  31  32  34  35  36  37  38  39  40  41  42  44  45\n",
      "  46  48  49  51  52  53  54  55  56  60  61  62  63  64  65  66  67  68\n",
      "  69  70  71  72  73  74  75  76  77  78  79  80  81  82  83  84  85  87\n",
      "  89  92  93  94  95  96  97  98  99 100 101 102 103 105 106 108 109 110\n",
      " 111 112 116 117 119 120 121 122 123 124 126 127 128 129 130 132 133 135\n",
      " 136 137 138 139 140 141 142 143 144 146 148 149] [  2  12  14  15  18  20  27  30  33  43  47  50  57  58  59  86  88  90\n",
      "  91 104 107 113 114 115 118 125 131 134 145 147]\n",
      "[  0   2   3   5   6   8  11  12  13  14  15  17  18  19  20  22  23  24\n",
      "  25  26  27  28  29  30  32  33  34  36  37  39  40  41  42  43  44  45\n",
      "  46  47  49  50  51  52  53  54  55  56  57  58  59  60  61  62  63  64\n",
      "  65  66  67  68  69  70  72  74  75  76  77  79  80  81  82  84  85  86\n",
      "  88  89  90  91  92  94  95  97 100 101 102 103 104 106 107 108 109 110\n",
      " 111 112 113 114 115 116 117 118 119 120 123 124 125 126 127 129 131 132\n",
      " 133 134 135 136 137 138 139 140 142 145 147 149] [  1   4   7   9  10  16  21  31  35  38  48  71  73  78  83  87  93  96\n",
      "  98  99 105 121 122 128 130 141 143 144 146 148]\n",
      "[  1   2   3   4   5   7   8   9  10  11  12  13  14  15  16  17  18  20\n",
      "  21  22  26  27  28  29  30  31  32  33  35  36  37  38  39  40  41  43\n",
      "  45  46  47  48  49  50  51  52  54  57  58  59  60  62  63  65  66  70\n",
      "  71  73  74  76  77  78  79  80  81  82  83  84  85  86  87  88  90  91\n",
      "  93  94  95  96  97  98  99 100 101 102 104 105 106 107 108 109 111 113\n",
      " 114 115 116 117 118 119 120 121 122 124 125 126 128 129 130 131 132 134\n",
      " 137 138 139 140 141 143 144 145 146 147 148 149] [  0   6  19  23  24  25  34  42  44  53  55  56  61  64  67  68  69  72\n",
      "  75  89  92 103 110 112 123 127 133 135 136 142]\n"
     ]
    }
   ],
   "source": [
    "#split data into 10 consecutive folds\n",
    "print(\"Train set                    Test set\")\n",
    "for train_set,test_set in kfold.split(x):\n",
    "    print(train_set,test_set)"
   ]
  },
  {
   "cell_type": "code",
   "execution_count": 30,
   "metadata": {},
   "outputs": [
    {
     "name": "stdout",
     "output_type": "stream",
     "text": [
      "[1. 1. 1. 1. 1.]\n",
      "100.0\n"
     ]
    }
   ],
   "source": [
    "model=RandomForestClassifier(n_estimators=num_trees)\n",
    "print(cross_val_score(model,x,y,cv=kfold,scoring='accuracy'))\n",
    "results=cross_val_score(model,x,y,cv=kfold,scoring='accuracy')\n",
    "print(results.mean()*100)"
   ]
  }
 ],
 "metadata": {
  "kernelspec": {
   "display_name": "Python 3",
   "language": "python",
   "name": "python3"
  },
  "language_info": {
   "codemirror_mode": {
    "name": "ipython",
    "version": 3
   },
   "file_extension": ".py",
   "mimetype": "text/x-python",
   "name": "python",
   "nbconvert_exporter": "python",
   "pygments_lexer": "ipython3",
   "version": "3.7.3"
  }
 },
 "nbformat": 4,
 "nbformat_minor": 2
}
